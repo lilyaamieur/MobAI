{
 "cells": [
  {
   "cell_type": "code",
   "execution_count": 5,
   "metadata": {},
   "outputs": [
    {
     "name": "stdout",
     "output_type": "stream",
     "text": [
      "Response: {'predictions': [{'category': 'apple', 'probability': 0.9996969699859619}, {'category': 'passport', 'probability': 0.00010726827895268798}, {'category': 'pliers', 'probability': 8.737091411603615e-05}]}\n"
     ]
    }
   ],
   "source": [
    "import requests\n",
    "import json\n",
    "\n",
    "url = \"http://127.0.0.1:5001/predict\" \n",
    "with open(\"drawing.json\", \"r\") as file:\n",
    "    data = json.load(file)\n",
    "\n",
    "response = requests.post(url, json=data)\n",
    "print(\"Response:\", response.json())  "
   ]
  }
 ],
 "metadata": {
  "kernelspec": {
   "display_name": "Python 3",
   "language": "python",
   "name": "python3"
  },
  "language_info": {
   "codemirror_mode": {
    "name": "ipython",
    "version": 3
   },
   "file_extension": ".py",
   "mimetype": "text/x-python",
   "name": "python",
   "nbconvert_exporter": "python",
   "pygments_lexer": "ipython3",
   "version": "3.12.1"
  }
 },
 "nbformat": 4,
 "nbformat_minor": 2
}
